{
  "nbformat": 4,
  "nbformat_minor": 0,
  "metadata": {
    "colab": {
      "name": "price_optimization.ipynb",
      "provenance": [],
      "authorship_tag": "ABX9TyPP6TluD/chTEKHo8AC3KoW",
      "include_colab_link": true
    },
    "kernelspec": {
      "name": "python3",
      "display_name": "Python 3"
    },
    "language_info": {
      "name": "python"
    }
  },
  "cells": [
    {
      "cell_type": "markdown",
      "metadata": {
        "id": "view-in-github",
        "colab_type": "text"
      },
      "source": [
        "<a href=\"https://colab.research.google.com/github/MuafiraThasni/Airline-Price-Optimization/blob/main/price_optimization.ipynb\" target=\"_parent\"><img src=\"https://colab.research.google.com/assets/colab-badge.svg\" alt=\"Open In Colab\"/></a>"
      ]
    },
    {
      "cell_type": "code",
      "execution_count": 1,
      "metadata": {
        "id": "5yPe4m36SGvs"
      },
      "outputs": [],
      "source": [
        "import numpy as np\n",
        "from tqdm import tqdm\n",
        "from IPython.display import display, Javascript\n",
        "import json\n",
        "from collections import namedtuple\n",
        "from numpy.random import uniform, seed\n",
        "from numpy import floor\n",
        "import matplotlib.pyplot as plt"
      ]
    },
    {
      "cell_type": "code",
      "source": [
        "def _tickets_sold(p, demand_level, max_qty):\n",
        "    quantity_demanded = floor(max(0, p - demand_level))\n",
        "    return min(quantity_demanded, max_qty)"
      ],
      "metadata": {
        "id": "fiXxFOyASLx0"
      },
      "execution_count": 2,
      "outputs": []
    },
    {
      "cell_type": "code",
      "source": [
        "# Simulate revenues achieved by pricing function on a event (days_left before event, number of tickets to sell) with random demand\n",
        "\n",
        "def simulate_revenue(days_left, tickets_left, pricing_function, rev_to_date=0, demand_level_min=100, demand_level_max=200, verbose=False):\n",
        "    \n",
        "    if (days_left == 0) or (tickets_left == 0):\n",
        "        \n",
        "        if verbose:\n",
        "            if (days_left == 0):\n",
        "                print(\"The flight took off today. \")\n",
        "            if (tickets_left == 0):\n",
        "                print(\"This flight is booked full.\")\n",
        "            print(\"Total Revenue: €{:.0f}\".format(rev_to_date))\n",
        "        return rev_to_date\n",
        "    \n",
        "    else:\n",
        "        \n",
        "        demand_level = uniform(demand_level_min, demand_level_max)\n",
        "        p = pricing_function(days_left, tickets_left, demand_level)\n",
        "        q = _tickets_sold(demand_level, p, tickets_left)\n",
        "        \n",
        "        if verbose:\n",
        "            print(\"{:.0f} days before flight: \"\n",
        "                  \"Started with {:.0f} seats. \"\n",
        "                  \"Demand level: {:.0f}. \"\n",
        "                  \"Price set to €{:.0f}. \"\n",
        "                  \"Sold {:.0f} tickets. \"\n",
        "                  \"Daily revenue is {:.0f}. Total revenue-to-date is {:.0f}. \"\n",
        "                  \"{:.0f} seats remaining\".format(days_left, tickets_left, demand_level, p, q, p*q, p*q+rev_to_date, tickets_left-q))\n",
        "        return simulate_revenue(days_left = days_left-1,\n",
        "                              tickets_left = tickets_left-q,\n",
        "                              pricing_function=pricing_function,\n",
        "                              rev_to_date=rev_to_date + p * q,\n",
        "                              demand_level_min=demand_level_min,\n",
        "                              demand_level_max=demand_level_max,\n",
        "                              verbose=verbose)"
      ],
      "metadata": {
        "id": "tVcHf7XZSOBQ"
      },
      "execution_count": 3,
      "outputs": []
    },
    {
      "cell_type": "code",
      "source": [
        "# Calculate average revenues per event achieved by pricing function on a range of events => To compare algorithms\n",
        "\n",
        "def score_me(pricing_function, sims_per_scenario=200):\n",
        "    \n",
        "    seed(0)\n",
        "    Scenario = namedtuple('Scenario', 'n_days n_tickets')\n",
        "    scenarios = [Scenario(n_days=100, n_tickets=100), Scenario(n_days=14, n_tickets=50),\n",
        "                 Scenario(n_days=2, n_tickets=20), Scenario(n_days=1, n_tickets=3),\n",
        "                 ]\n",
        "    scenario_scores = []\n",
        "    \n",
        "    for s in scenarios:\n",
        "        \n",
        "        scenario_score = sum(simulate_revenue(s.n_days, s.n_tickets, pricing_function)\n",
        "                                     for _ in range(sims_per_scenario)) / sims_per_scenario\n",
        "        \n",
        "        print(\"Ran {:.0f} flights starting {:.0f} days before flight with {:.0f} tickets. \"\n",
        "              \"Average revenue: €{:.0f}\".format(sims_per_scenario, s.n_days, s.n_tickets, scenario_score))\n",
        "        \n",
        "        scenario_scores.append(scenario_score)\n",
        "    \n",
        "    score = sum(scenario_scores) / len(scenario_scores)\n",
        "    \n",
        "    print(\"Average revenue across all flights is €{:.0f}\".format(score))"
      ],
      "metadata": {
        "id": "Jnu45-eFSSMG"
      },
      "execution_count": 4,
      "outputs": []
    },
    {
      "cell_type": "code",
      "source": [
        "def basic_pricing_function(days_left, tickets_left, demand_level):\n",
        "    \"\"\"Sample pricing function\"\"\"\n",
        "    price = demand_level - 10\n",
        "    return price"
      ],
      "metadata": {
        "id": "pCIHlkOGSVS0"
      },
      "execution_count": 5,
      "outputs": []
    },
    {
      "cell_type": "code",
      "source": [
        "simulate_revenue(days_left=7, tickets_left=50, pricing_function=basic_pricing_function, verbose=True)\n",
        "print()"
      ],
      "metadata": {
        "colab": {
          "base_uri": "https://localhost:8080/"
        },
        "id": "OiXFpnx7SYX8",
        "outputId": "4c7a301b-34f9-4ebf-c54c-439b9395f44a"
      },
      "execution_count": 6,
      "outputs": [
        {
          "output_type": "stream",
          "name": "stdout",
          "text": [
            "7 days before flight: Started with 50 seats. Demand level: 192. Price set to €182. Sold 10 tickets. Daily revenue is 1818. Total revenue-to-date is 1818. 40 seats remaining\n",
            "6 days before flight: Started with 40 seats. Demand level: 160. Price set to €150. Sold 10 tickets. Daily revenue is 1500. Total revenue-to-date is 3318. 30 seats remaining\n",
            "5 days before flight: Started with 30 seats. Demand level: 154. Price set to €144. Sold 10 tickets. Daily revenue is 1436. Total revenue-to-date is 4754. 20 seats remaining\n",
            "4 days before flight: Started with 20 seats. Demand level: 185. Price set to €175. Sold 10 tickets. Daily revenue is 1755. Total revenue-to-date is 6509. 10 seats remaining\n",
            "3 days before flight: Started with 10 seats. Demand level: 119. Price set to €109. Sold 10 tickets. Daily revenue is 1091. Total revenue-to-date is 7599. 0 seats remaining\n",
            "This flight is booked full.\n",
            "Total Revenue: €7599\n",
            "\n"
          ]
        }
      ]
    },
    {
      "cell_type": "code",
      "source": [
        "# we assume max day left = 100, max tickets to sell = 100\n",
        "n = 100\n",
        "optimal_prices = np.zeros((n+1, n+1, n+1), dtype='uint8') # The optimal price given the number of days left (0->100), tickets left (0->100) and current demand level (100->200)\n",
        "optimal_sales = np.zeros((n+1, n+1), dtype=np.float)      # Expected profit when pricing optimally given the number of days and tickets left\n",
        "\n",
        "# Base case when there is 1 day left\n",
        "for tickets_left in range(n+1):\n",
        "    \n",
        "    for demand in range(n, 2*n+1):\n",
        "        \n",
        "        tickets_sold = min(demand // 2, tickets_left) # demand / 2 is the optimal quantity to sell if there are enough tickets left\n",
        "        price = demand - tickets_sold\n",
        "        \n",
        "        optimal_prices[1, tickets_left, demand - 100] = price\n",
        "        \n",
        "        # Calculate optimal revenue expectation. Sum over every demand level with equal chance of occurence (uniform distribution)\n",
        "        optimal_sales[1, tickets_left] += (price * tickets_sold / 101) # Average out the best profit through all possible demand levels\n",
        "        \n",
        "        # Fill in the tables\n",
        "for days_left in tqdm(range(2, n+1)):\n",
        "    \n",
        "    for tickets_left in range(n+1):\n",
        "        \n",
        "        last_best_price = 0 # For previous demand level (one lower)\n",
        "        \n",
        "        for demand in range(n, 2*n+1):\n",
        "            \n",
        "            # Search over all prices to find the best price for the context: days_left, tickets_left, demand_level\n",
        "            best_revenue = 0\n",
        "            best_price = 0\n",
        "                        \n",
        "            # No need to search all prices in range(0, demand):\n",
        "            for price in range(max(demand - tickets_left, last_best_price), demand+1): # optimal price should not be lower than demand - remaining tickets or the last best price\n",
        "                \n",
        "                tickets_sold = min(demand - price, tickets_left) # This is the quantity that will be sold at price p\n",
        "                revenue = price * tickets_sold + optimal_sales[days_left - 1, tickets_left - tickets_sold] # This is the total expected profit if selling at price p\n",
        "                \n",
        "                if revenue > best_revenue: # Update best profit and price\n",
        "                    best_revenue, best_price = revenue, price\n",
        "            \n",
        "            # Set the optimal price and profit values\n",
        "            optimal_prices[days_left, tickets_left, demand-100] = best_price\n",
        "            \n",
        "            # similarly let's calculate the optimal_sales expectation over all possible demand level (same probability of occurence)\n",
        "            optimal_sales[days_left, tickets_left] += (best_revenue / 101) # Average out the best profit through all possible demand level\n",
        "            \n",
        "            last_best_price = best_price # For higher demand levels, this best_price is the floor"
      ],
      "metadata": {
        "colab": {
          "base_uri": "https://localhost:8080/"
        },
        "id": "VbgsWT53ScIm",
        "outputId": "6eedbcdb-f2f4-4086-da9e-b4f761977b18"
      },
      "execution_count": 7,
      "outputs": [
        {
          "output_type": "stream",
          "name": "stderr",
          "text": [
            "/usr/local/lib/python3.7/dist-packages/ipykernel_launcher.py:4: DeprecationWarning: `np.float` is a deprecated alias for the builtin `float`. To silence this warning, use `float` by itself. Doing this will not modify any behavior and is safe. If you specifically wanted the numpy scalar type, use `np.float64` here.\n",
            "Deprecated in NumPy 1.20; for more details and guidance: https://numpy.org/devdocs/release/1.20.0-notes.html#deprecations\n",
            "  after removing the cwd from sys.path.\n",
            "100%|██████████| 99/99 [00:06<00:00, 14.83it/s]\n"
          ]
        }
      ]
    },
    {
      "cell_type": "code",
      "source": [
        "def pricing_function_bf(days_left, tickets_left, demand_level):\n",
        "    \"\"\"Return the optimal price\"\"\"\n",
        "    \n",
        "    # These should be cast to an integer (and rounded down)\n",
        "    tickets_left = int(tickets_left)\n",
        "    demand_level = int(demand_level)\n",
        "    \n",
        "    return optimal_prices[days_left, tickets_left, demand_level-100] # Return the precomputed values"
      ],
      "metadata": {
        "id": "9qmqClpYSzJr"
      },
      "execution_count": 8,
      "outputs": []
    },
    {
      "cell_type": "code",
      "source": [
        "print('pricing function:')\n",
        "\n",
        "simulate_revenue(days_left=7, tickets_left=50, pricing_function=pricing_function_bf, verbose=True)\n",
        "score_me(pricing_function_bf, 200)"
      ],
      "metadata": {
        "colab": {
          "base_uri": "https://localhost:8080/"
        },
        "id": "oZ-1GZ_lS4GF",
        "outputId": "94b3145c-6b55-4e1e-84d6-43463a0fa632"
      },
      "execution_count": 9,
      "outputs": [
        {
          "output_type": "stream",
          "name": "stdout",
          "text": [
            "pricing function:\n",
            "7 days before flight: Started with 50 seats. Demand level: 121. Price set to €121. Sold 0 tickets. Daily revenue is 0. Total revenue-to-date is 0. 50 seats remaining\n",
            "6 days before flight: Started with 50 seats. Demand level: 139. Price set to €136. Sold 2 tickets. Daily revenue is 272. Total revenue-to-date is 272. 48 seats remaining\n",
            "5 days before flight: Started with 48 seats. Demand level: 110. Price set to €109. Sold 0 tickets. Daily revenue is 0. Total revenue-to-date is 272. 48 seats remaining\n",
            "4 days before flight: Started with 48 seats. Demand level: 108. Price set to €108. Sold 0 tickets. Daily revenue is 0. Total revenue-to-date is 272. 48 seats remaining\n",
            "3 days before flight: Started with 48 seats. Demand level: 114. Price set to €109. Sold 4 tickets. Daily revenue is 436. Total revenue-to-date is 708. 44 seats remaining\n",
            "2 days before flight: Started with 44 seats. Demand level: 106. Price set to €94. Sold 11 tickets. Daily revenue is 1034. Total revenue-to-date is 1742. 33 seats remaining\n",
            "1 days before flight: Started with 33 seats. Demand level: 179. Price set to €146. Sold 33 tickets. Daily revenue is 4818. Total revenue-to-date is 6560. 0 seats remaining\n",
            "The flight took off today. \n",
            "This flight is booked full.\n",
            "Total Revenue: €6560\n",
            "Ran 200 flights starting 100 days before flight with 100 tickets. Average revenue: €18456\n",
            "Ran 200 flights starting 14 days before flight with 50 tickets. Average revenue: €8534\n",
            "Ran 200 flights starting 2 days before flight with 20 tickets. Average revenue: €2873\n",
            "Ran 200 flights starting 1 days before flight with 3 tickets. Average revenue: €435\n",
            "Average revenue across all flights is €7574\n"
          ]
        }
      ]
    },
    {
      "cell_type": "code",
      "source": [
        "from math import floor\n",
        "\n",
        "savedF = {}\n",
        "savedG = {}                                  \n",
        "\n",
        "def getF(tickets,days):\n",
        "    if tickets<=0 or days <= 0:\n",
        "        return 0\n",
        "    if (tickets,days) in savedF:\n",
        "        return savedF[(tickets,days)]\n",
        "    res = 0.0\n",
        "    #count math expectation \n",
        "    for i in range(100, 201):\n",
        "        res += getG(tickets, days, i)[0]\n",
        "    res /= 101\n",
        "    \n",
        "    savedF[(tickets,days)] = res\n",
        "    return res\n",
        "\n",
        "def getG(tickets, days, demand):\n",
        "    if days <= 0 or tickets <= 0:\n",
        "        return (0,0)\n",
        "    if (tickets, days, demand) in savedG:\n",
        "        return savedG[(tickets, days, demand)]\n",
        "    topTotal = -1\n",
        "    topPrice = -1\n",
        "    for i in range(1, demand+1):\n",
        "        res = min(demand-i, tickets)*i + (getF(tickets-(demand-i), days-1) if tickets-(demand-i) > 0 else 0)\n",
        "        if res > topTotal:\n",
        "            topTotal, topPrice = res, i\n",
        "    savedG[(tickets, days, demand)] = (topTotal, topPrice)\n",
        "    return (topTotal, topPrice)"
      ],
      "metadata": {
        "id": "NYlx33e3S7V-"
      },
      "execution_count": 10,
      "outputs": []
    },
    {
      "cell_type": "code",
      "source": [
        "def pricing_function_dp(days_left, tickets_left, demand_level):\n",
        "    demand_level_floor = int(floor(demand_level))\n",
        "    demand_delta = demand_level - demand_level_floor\n",
        "    (topTotal, topPrice) = getG(tickets_left, days_left, demand_level_floor)\n",
        "    return topPrice + demand_delta - 0.00001"
      ],
      "metadata": {
        "id": "R099ANgoTAhd"
      },
      "execution_count": 11,
      "outputs": []
    },
    {
      "cell_type": "code",
      "source": [
        "print('pricing function:')\n",
        "simulate_revenue(days_left=7, tickets_left=50, pricing_function=pricing_function_dp, verbose=True)\n",
        "score_me(pricing_function_dp, 200)"
      ],
      "metadata": {
        "colab": {
          "base_uri": "https://localhost:8080/"
        },
        "id": "kbytzNapTCnT",
        "outputId": "ea2c9a0c-f857-4d6f-9935-2da84e487e8f"
      },
      "execution_count": 12,
      "outputs": [
        {
          "output_type": "stream",
          "name": "stdout",
          "text": [
            "pricing function:\n",
            "7 days before flight: Started with 50 seats. Demand level: 198. Price set to €175. Sold 23 tickets. Daily revenue is 4028. Total revenue-to-date is 4028. 27 seats remaining\n",
            "6 days before flight: Started with 27 seats. Demand level: 152. Price set to €151. Sold 1 tickets. Daily revenue is 151. Total revenue-to-date is 4179. 26 seats remaining\n",
            "5 days before flight: Started with 26 seats. Demand level: 149. Price set to €147. Sold 2 tickets. Daily revenue is 293. Total revenue-to-date is 4472. 24 seats remaining\n",
            "4 days before flight: Started with 24 seats. Demand level: 160. Price set to €153. Sold 7 tickets. Daily revenue is 1068. Total revenue-to-date is 5540. 17 seats remaining\n",
            "3 days before flight: Started with 17 seats. Demand level: 109. Price set to €109. Sold 0 tickets. Daily revenue is 0. Total revenue-to-date is 5540. 17 seats remaining\n",
            "2 days before flight: Started with 17 seats. Demand level: 131. Price set to €127. Sold 4 tickets. Daily revenue is 507. Total revenue-to-date is 6047. 13 seats remaining\n",
            "1 days before flight: Started with 13 seats. Demand level: 175. Price set to €162. Sold 13 tickets. Daily revenue is 2111. Total revenue-to-date is 8158. 0 seats remaining\n",
            "The flight took off today. \n",
            "This flight is booked full.\n",
            "Total Revenue: €8158\n",
            "Ran 200 flights starting 100 days before flight with 100 tickets. Average revenue: €18507\n",
            "Ran 200 flights starting 14 days before flight with 50 tickets. Average revenue: €8559\n",
            "Ran 200 flights starting 2 days before flight with 20 tickets. Average revenue: €2883\n",
            "Ran 200 flights starting 1 days before flight with 3 tickets. Average revenue: €436\n",
            "Average revenue across all flights is €7596\n"
          ]
        }
      ]
    },
    {
      "cell_type": "code",
      "source": [
        "def create_valuefunctions(remaining_days,remaining_tickets,min_demand_level,max_demand_level):\n",
        "    demand_levels_n = max_demand_level - min_demand_level\n",
        "    Q = np.zeros([remaining_days + 1,remaining_tickets + 1,demand_levels_n,remaining_tickets + 1])\n",
        "    V = np.zeros([remaining_days + 1,remaining_tickets + 1])\n",
        "    return Q,V\n",
        "\n",
        "def make_base_step(Q,V,demand_range,remaining_tickets):\n",
        "    for tickets_left in range(1,remaining_tickets + 1):\n",
        "        for demand_level_i,demand_level  in enumerate(demand_range):\n",
        "            for tickets_sold in range(1, tickets_left + 1):\n",
        "                price = demand_level - tickets_sold\n",
        "                immediate_reward = tickets_sold * price\n",
        "                Q[1,tickets_left,demand_level_i,tickets_sold] = immediate_reward\n",
        "                \n",
        "        V[1,tickets_left] = Q[1,tickets_left,:,:].max(axis = 1).mean()\n",
        "        \n"
      ],
      "metadata": {
        "id": "tigHIJmXTF2Q"
      },
      "execution_count": 14,
      "outputs": []
    },
    {
      "cell_type": "code",
      "source": [
        "def dynamic_programming_algorithm(Q,V,remaining_days,remaining_tickets,demand_range):\n",
        "    for days_left in range(2, remaining_days +1):\n",
        "        for tickets_left in range(1,remaining_tickets+1):\n",
        "            for demand_level_i,demand_level  in enumerate(demand_range):\n",
        "                for tickets_sold in range(1, tickets_left + 1):\n",
        "                    price = demand_level - tickets_sold\n",
        "                    immediate_reward = tickets_sold * price\n",
        "                    Q[days_left,tickets_left,demand_level_i,tickets_sold] = immediate_reward + V[days_left-1,tickets_left - tickets_sold]\n",
        "                \n",
        "                V[days_left,tickets_left] = Q[days_left,tickets_left,:,:].max(axis = 1).mean()\n",
        "    \n",
        "    return Q,V"
      ],
      "metadata": {
        "id": "NYa2OCrRTJrG"
      },
      "execution_count": 15,
      "outputs": []
    },
    {
      "cell_type": "code",
      "source": [
        "remaining_days = 200\n",
        "remaining_tickets = 150\n",
        "min_demand_level = 100\n",
        "max_demand_level = 200\n",
        "\n",
        "demand_levels_n = max_demand_level - min_demand_level\n",
        "demand_range = np.linspace(min_demand_level, max_demand_level,demand_levels_n , dtype = int)\n",
        "\n",
        "Q,V = create_valuefunctions(remaining_days, remaining_tickets, min_demand_level, max_demand_level)\n",
        "make_base_step(Q,V,demand_range,remaining_tickets)\n",
        "Q,V = dynamic_programming_algorithm(Q,V,remaining_days,remaining_tickets,demand_range)"
      ],
      "metadata": {
        "id": "cqoOio1nTM6C"
      },
      "execution_count": null,
      "outputs": []
    },
    {
      "cell_type": "code",
      "source": [
        "def pricing_function_bm(days_left, tickets_left, demand_level):\n",
        "    \"\"\"Sample pricing function\"\"\"\n",
        "    demand_level_index = np.abs(demand_level - demand_range).argmin()\n",
        "    demand_level_index = demand_level_index\n",
        "    relevant_tickest_sold = Q[days_left, int(tickets_left), demand_level_index, :]\n",
        "    best_tickets_sold = relevant_tickest_sold.argmax()\n",
        "    price = max(demand_level - best_tickets_sold,0)\n",
        "    return price"
      ],
      "metadata": {
        "id": "Yxd7p8x3TRin"
      },
      "execution_count": null,
      "outputs": []
    },
    {
      "cell_type": "code",
      "source": [
        "simulate_revenue(days_left=7, tickets_left=50, pricing_function=pricing_function_bm, verbose=True)"
      ],
      "metadata": {
        "id": "VGqOt8niT1-7"
      },
      "execution_count": null,
      "outputs": []
    }
  ]
}